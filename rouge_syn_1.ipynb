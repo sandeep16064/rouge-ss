{
  "nbformat": 4,
  "nbformat_minor": 0,
  "metadata": {
    "colab": {
      "provenance": []
    },
    "kernelspec": {
      "name": "python3",
      "display_name": "Python 3"
    },
    "language_info": {
      "name": "python"
    }
  },
  "cells": [
    {
      "cell_type": "code",
      "execution_count": null,
      "metadata": {
        "colab": {
          "base_uri": "https://localhost:8080/"
        },
        "id": "fwXByQEbwW79",
        "outputId": "e786ac7c-1c29-4e09-d36d-6dfad53536dd"
      },
      "outputs": [
        {
          "output_type": "stream",
          "name": "stderr",
          "text": [
            "[nltk_data] Downloading package wordnet to /root/nltk_data...\n",
            "[nltk_data] Downloading package omw-1.4 to /root/nltk_data...\n"
          ]
        },
        {
          "output_type": "execute_result",
          "data": {
            "text/plain": [
              "True"
            ]
          },
          "metadata": {},
          "execution_count": 1
        }
      ],
      "source": [
        "import nltk\n",
        "nltk.download('wordnet')\n",
        "nltk.download('omw-1.4')"
      ]
    },
    {
      "cell_type": "code",
      "source": [
        "!pip install rouge"
      ],
      "metadata": {
        "colab": {
          "base_uri": "https://localhost:8080/"
        },
        "id": "d6QkSonMwnx6",
        "outputId": "eb1f231b-0721-41e8-9fe8-ae832835d9cc"
      },
      "execution_count": null,
      "outputs": [
        {
          "output_type": "stream",
          "name": "stdout",
          "text": [
            "Looking in indexes: https://pypi.org/simple, https://us-python.pkg.dev/colab-wheels/public/simple/\n",
            "Collecting rouge\n",
            "  Downloading rouge-1.0.1-py3-none-any.whl (13 kB)\n",
            "Requirement already satisfied: six in /usr/local/lib/python3.10/dist-packages (from rouge) (1.16.0)\n",
            "Installing collected packages: rouge\n",
            "Successfully installed rouge-1.0.1\n"
          ]
        }
      ]
    },
    {
      "cell_type": "markdown",
      "source": [
        "## **taking Reference and summary**"
      ],
      "metadata": {
        "id": "j3TWZBB9HEoU"
      }
    },
    {
      "cell_type": "code",
      "source": [
        "reference = \"MS Dhoni set to lead Jharkhand in Vijay Hazare Trophy\"\n",
        "summary=\"dhoni to lead jharkhand t20 prize\""
      ],
      "metadata": {
        "id": "oFMUsxb6wumu"
      },
      "execution_count": null,
      "outputs": []
    },
    {
      "cell_type": "code",
      "source": [
        "\n",
        "reference= \"british no 1 defeated dominic thiem  in miami open quarter finals. andy murray celebrated his 500th career win in the previous round. third seed will play the winner of comas berdyeh and juan monaco in the semi finals of the atp masters\"\n",
        "summary = \"murray was awaiting the winner from the last eight match between tomas berdych and argentina's juan Monaco . prior to this toumament thiem lost in the second round of a challenger event to soon-to-be new brit aljaz  bedene .\""
      ],
      "metadata": {
        "id": "GiENrxRxZrQE"
      },
      "execution_count": null,
      "outputs": []
    },
    {
      "cell_type": "code",
      "source": [
        "reference= \"norway protests russia barring fisheries research ships\"\n",
        "summary = \"norway grants diplomatic protest to Russia\"\n"
      ],
      "metadata": {
        "id": "Gzvr8KWGYCT1"
      },
      "execution_count": null,
      "outputs": []
    },
    {
      "cell_type": "code",
      "source": [
        "#OR\n",
        "#reference=\"India shows responsible behaviour with nuke technology: US\"  \n",
        "#summary=\"india shows responsible with nuclear weapons us\""
      ],
      "metadata": {
        "id": "iD69gE1sIGwD"
      },
      "execution_count": null,
      "outputs": []
    },
    {
      "cell_type": "code",
      "source": [
        "from rouge import Rouge\n",
        "from nltk.corpus import wordnet\n",
        "from nltk.stem import WordNetLemmatizer\n",
        "# Initialize ROUGE and ROUGE-S scorers\n",
        "rouge = Rouge()\n",
        "reference_text=reference.lower()\n",
        "summary_text=summary.lower()         \n",
        "print(\"************Original input and generated summary***************\")\n",
        "print(\"reference_text::\",reference_text)\n",
        "print(\"summary_text::\", summary_text)\n",
        "\n",
        "scores11 = rouge.get_scores(summary_text, reference_text)\n",
        "rouge1_precision11 = scores11[0]['rouge-1']['p']\n",
        "rouge1_recall11 = scores11[0]['rouge-1']['r']\n",
        "rouge1_f1_11 = scores11[0]['rouge-1']['f']\n",
        "print()\n",
        "print(\"***rouge score original****** \")\n",
        "print(\"ROUGE-1 Precision: \", rouge1_precision11)\n",
        "print(\"ROUGE-1 Recall: \", rouge1_recall11)\n",
        "print(\"ROUGE-1 F1 Score: \", rouge1_f1_11)"
      ],
      "metadata": {
        "colab": {
          "base_uri": "https://localhost:8080/"
        },
        "id": "u1aG4KZoH8SZ",
        "outputId": "d9e517dc-35da-4e79-bb04-dad5291dab7c"
      },
      "execution_count": null,
      "outputs": [
        {
          "output_type": "stream",
          "name": "stdout",
          "text": [
            "************Original input and generated summary***************\n",
            "reference_text:: ms dhoni set to lead jharkhand in vijay hazare trophy\n",
            "summary_text:: dhoni to lead jharkhand t20 prize\n",
            "\n",
            "***rouge score original****** \n",
            "ROUGE-1 Precision:  0.6666666666666666\n",
            "ROUGE-1 Recall:  0.4\n",
            "ROUGE-1 F1 Score:  0.49999999531250006\n"
          ]
        }
      ]
    },
    {
      "cell_type": "code",
      "source": [
        "import nltk.corpus\n",
        "from nltk.corpus import wordnet\n",
        "import string\n",
        "\n",
        "reference_text1=reference.translate(str.maketrans('', '', string.punctuation))\n",
        "reference_text1=reference_text1.lower()\n",
        "summary_text1 = summary.translate(str.maketrans('', '', string.punctuation))\n",
        "summary_text1=summary_text1.lower()  \n",
        "\n",
        "# creating empty list\n",
        "token_list = []\n",
        "\n",
        "# tokenizing the string \n",
        "tokenized_str = reference_text1.split()\n",
        "ref_len=len(tokenized_str)\n",
        "# looping over the tokenized string\n",
        "for token in tokenized_str:\n",
        "    # appending each token to the list\n",
        "    token_list.append(token)\n",
        "#enpty set    \n",
        "synonyms = set()\n",
        "\n",
        "# looping through the list\n",
        "for token in token_list:\n",
        "    # printing each token\n",
        "    #print(\"this is tokens\",token)\n",
        "    for syn in wordnet.synsets(token):\n",
        "        for l in syn.lemmas():\n",
        "            synonyms.add(l.name())\n",
        "            #print(len(synonyms))\n",
        "#print(set(synonyms))\n",
        "# \n",
        "for token in tokenized_str:\n",
        "    synonyms.add(token) #here added txt again in syn list....\n",
        "#synonyms.add(token_list)\n",
        "# converting set items in string\n",
        "cleaned_ref=list()\n",
        "cleaned_text = synonyms\n",
        "cleaned_ref = ' '.join(cleaned_text)\n",
        "#print(cleaned_ref)\n",
        "\n",
        "#for token1 in cleaned_text:\n",
        " #   cleaned_ref.append(token1)\n",
        "#print(cleaned_ref)\n",
        "#print(\"******************\")\n",
        "#print(synonyms)"
      ],
      "metadata": {
        "id": "C1Hpgy6jw1Y4"
      },
      "execution_count": null,
      "outputs": []
    },
    {
      "cell_type": "code",
      "source": [
        "print(reference_text1)\n",
        "print(\"*\")\n",
        "print(summary_text1)"
      ],
      "metadata": {
        "colab": {
          "base_uri": "https://localhost:8080/"
        },
        "id": "uw9sx8BQf1WY",
        "outputId": "1004c1d3-0f40-4ea4-8a59-f49a4aff8bc9"
      },
      "execution_count": null,
      "outputs": [
        {
          "output_type": "stream",
          "name": "stdout",
          "text": [
            "ms dhoni set to lead jharkhand in vijay hazare trophy\n",
            "*\n",
            "dhoni to lead jharkhand t20 prize\n"
          ]
        }
      ]
    },
    {
      "cell_type": "code",
      "source": [
        "reference_text2=cleaned_ref\n",
        "summary_text2=summary_text1"
      ],
      "metadata": {
        "id": "DR_PDbZF_QDN"
      },
      "execution_count": null,
      "outputs": []
    },
    {
      "cell_type": "code",
      "source": [
        "reference_text2=reference_text2.lower()\n",
        "summary_text2=summary_text2.lower()  "
      ],
      "metadata": {
        "id": "HDSoiD_6pI5W"
      },
      "execution_count": null,
      "outputs": []
    },
    {
      "cell_type": "code",
      "source": [
        "print(reference_text2)\n",
        "print(\"*****\")\n",
        "print(summary_text2)\n"
      ],
      "metadata": {
        "colab": {
          "base_uri": "https://localhost:8080/"
        },
        "id": "dOpanRS2w_Pv",
        "outputId": "0030a34d-c5a7-478b-f90f-edf2b00010fd"
      },
      "execution_count": null,
      "outputs": [
        {
          "output_type": "stream",
          "name": "stdout",
          "text": [
            "indium laid leading solidification in to circle congeal adjust fixed pencil_lead magnolia_state ready disseminated_sclerosis solidifying bent contribute yard indiana dhoni disseminated_multiple_sclerosis coiffure placed confidential_information head jumper_cable set define take in booster_cable prize determined pass hardening localise tip k ms result seth track hint determine exercise_set ms lead-in band position molarity leash lead trophy fix curing thou countersink rig situated plant fructify mb atomic_number_49 arrange grand 1000 fit set_up meter coif stage_set run coiffe localize chiliad gear_up go_under direct sm molar_concentration guide g moderate rigid hoosier_state dress vijay ms. mib extend top pose lede m jell star trail dictated multiple_sclerosis metre mississippi master_of_science spark_advance lot atomic_number_82 steer correct prepare leave place lay primed jumper_lead put jharkhand wind m msc precede located thousand inward go_down lay_out pb do readiness mebibyte tether conduce sic hardened lead_story limit mark principal go inwards megabyte specify typeset inch hazare conduct manuscript chair one_thousand ms in set\n",
            "*****\n",
            "dhoni to lead jharkhand t20 prize\n"
          ]
        }
      ]
    },
    {
      "cell_type": "code",
      "source": [
        "from collections import Counter\n",
        "import numpy as np\n",
        "\n",
        "def rouge_ss(summary, reference):\n",
        "    #summary_ngrams = [summary[i:i+2] for i in range(len(summary)-1)]\n",
        "    #reference_ngrams = [reference[i:i+2] for i in range(len(reference)-1)]\n",
        "    #print(summary_ngrams)\n",
        "    summary=summary.split()\n",
        "    reference=reference.split()\n",
        "    summary_counts = Counter(summary)\n",
        "    print(summary_counts)\n",
        "    reference_counts = Counter(reference)\n",
        "    print(reference_counts)\n",
        "    intersection_counts = summary_counts & reference_counts\n",
        "    intersection = sum(intersection_counts.values())\n",
        "    summary_total = len(summary)\n",
        "    reference_total = ref_len  #from starting reference #len(reference)\n",
        "    print(summary_total)\n",
        "    print(reference_total)\n",
        "    recall = intersection / reference_total\n",
        "    precision = intersection / summary_total\n",
        "    f1_score = 2 * precision * recall / (precision + recall) if precision + recall > 0 else 0\n",
        "    return {'rouge-ss': {'p': precision, 'r': recall, 'f': f1_score}}"
      ],
      "metadata": {
        "id": "kYf_3f3bx9V8"
      },
      "execution_count": null,
      "outputs": []
    },
    {
      "cell_type": "code",
      "source": [
        "# Calculate ROUGE-S scores\n",
        "scores1 = rouge_ss(summary_text2, reference_text2)\n",
        "print(\"***rouge score on most synonyms using intersection operation*****\")#, scores1)\n",
        "rouge_ss_precision1 = scores1['rouge-ss']['p']\n",
        "rouge_ss_recall1 = scores1['rouge-ss']['r']\n",
        "rouge_ss_f11 = scores1['rouge-ss']['f']\n",
        "\n",
        "print(\"ROUGE-SS Precision: \", rouge_ss_precision1)\n",
        "print(\"ROUGE-SS Recall: \", rouge_ss_recall1)\n",
        "print(\"ROUGE-SS F1 Score: \", rouge_ss_f11)"
      ],
      "metadata": {
        "colab": {
          "base_uri": "https://localhost:8080/"
        },
        "id": "CV3xHYhyyJaL",
        "outputId": "f8969bdc-2773-47f4-f6c0-d5205a9dd9c7"
      },
      "execution_count": null,
      "outputs": [
        {
          "output_type": "stream",
          "name": "stdout",
          "text": [
            "Counter({'dhoni': 1, 'to': 1, 'lead': 1, 'jharkhand': 1, 't20': 1, 'prize': 1})\n",
            "Counter({'in': 3, 'ms': 3, 'set': 2, 'm': 2, 'indium': 1, 'laid': 1, 'leading': 1, 'solidification': 1, 'to': 1, 'circle': 1, 'congeal': 1, 'adjust': 1, 'fixed': 1, 'pencil_lead': 1, 'magnolia_state': 1, 'ready': 1, 'disseminated_sclerosis': 1, 'solidifying': 1, 'bent': 1, 'contribute': 1, 'yard': 1, 'indiana': 1, 'dhoni': 1, 'disseminated_multiple_sclerosis': 1, 'coiffure': 1, 'placed': 1, 'confidential_information': 1, 'head': 1, 'jumper_cable': 1, 'define': 1, 'take': 1, 'booster_cable': 1, 'prize': 1, 'determined': 1, 'pass': 1, 'hardening': 1, 'localise': 1, 'tip': 1, 'k': 1, 'result': 1, 'seth': 1, 'track': 1, 'hint': 1, 'determine': 1, 'exercise_set': 1, 'lead-in': 1, 'band': 1, 'position': 1, 'molarity': 1, 'leash': 1, 'lead': 1, 'trophy': 1, 'fix': 1, 'curing': 1, 'thou': 1, 'countersink': 1, 'rig': 1, 'situated': 1, 'plant': 1, 'fructify': 1, 'mb': 1, 'atomic_number_49': 1, 'arrange': 1, 'grand': 1, '1000': 1, 'fit': 1, 'set_up': 1, 'meter': 1, 'coif': 1, 'stage_set': 1, 'run': 1, 'coiffe': 1, 'localize': 1, 'chiliad': 1, 'gear_up': 1, 'go_under': 1, 'direct': 1, 'sm': 1, 'molar_concentration': 1, 'guide': 1, 'g': 1, 'moderate': 1, 'rigid': 1, 'hoosier_state': 1, 'dress': 1, 'vijay': 1, 'ms.': 1, 'mib': 1, 'extend': 1, 'top': 1, 'pose': 1, 'lede': 1, 'jell': 1, 'star': 1, 'trail': 1, 'dictated': 1, 'multiple_sclerosis': 1, 'metre': 1, 'mississippi': 1, 'master_of_science': 1, 'spark_advance': 1, 'lot': 1, 'atomic_number_82': 1, 'steer': 1, 'correct': 1, 'prepare': 1, 'leave': 1, 'place': 1, 'lay': 1, 'primed': 1, 'jumper_lead': 1, 'put': 1, 'jharkhand': 1, 'wind': 1, 'msc': 1, 'precede': 1, 'located': 1, 'thousand': 1, 'inward': 1, 'go_down': 1, 'lay_out': 1, 'pb': 1, 'do': 1, 'readiness': 1, 'mebibyte': 1, 'tether': 1, 'conduce': 1, 'sic': 1, 'hardened': 1, 'lead_story': 1, 'limit': 1, 'mark': 1, 'principal': 1, 'go': 1, 'inwards': 1, 'megabyte': 1, 'specify': 1, 'typeset': 1, 'inch': 1, 'hazare': 1, 'conduct': 1, 'manuscript': 1, 'chair': 1, 'one_thousand': 1})\n",
            "6\n",
            "10\n",
            "***rouge score on most synonyms using intersection operation*****\n",
            "ROUGE-SS Precision:  0.8333333333333334\n",
            "ROUGE-SS Recall:  0.5\n",
            "ROUGE-SS F1 Score:  0.625\n"
          ]
        }
      ]
    },
    {
      "cell_type": "code",
      "source": [],
      "metadata": {
        "id": "NUAsT_WWi7-I"
      },
      "execution_count": null,
      "outputs": []
    },
    {
      "cell_type": "markdown",
      "source": [],
      "metadata": {
        "id": "K_V-Kv6XYRj2"
      }
    }
  ]
}